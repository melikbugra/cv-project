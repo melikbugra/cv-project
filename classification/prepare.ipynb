{
 "cells": [
  {
   "cell_type": "code",
   "execution_count": 6,
   "metadata": {},
   "outputs": [],
   "source": [
    "# Move images to `test` and `train` dir\n",
    "import shutil\n",
    "import os\n",
    "\n",
    "classes = ['Van', 'Motorcycle', 'Bus', 'Truck', 'Car', 'Bicycle']\n",
    "\n",
    "os.mkdir(\"data/data\")\n",
    "os.mkdir(\"data/data/test\")\n",
    "os.mkdir(\"data/data/train\")\n",
    "\n",
    "for dir in [\"test\", \"train\"]:\n",
    "    for _class in classes:\n",
    "        os.mkdir(\"data/data/{}/{}\".format(dir, _class))\n",
    "\n",
    "for _class in classes:\n",
    "    images = os.listdir(\"data/train/train/{}\".format(_class))\n",
    "\n",
    "    test = images[:300]\n",
    "    \n",
    "    # downsample to 1.5k images\n",
    "    if len(images) < 1500:\n",
    "      train = images[300:]\n",
    "    else:\n",
    "      train = images[300:1500]\n",
    "\n",
    "    # move images to test-set folder\n",
    "    for image in test:\n",
    "        shutil.copy(\"data/train/train/{}/{}\".format(_class, image), \"data/data/test/{}/{}\".format(_class, image))\n",
    "\n",
    "    # move images to train-set folder\n",
    "    for image in train:\n",
    "        shutil.copy(\"data/train/train/{}/{}\".format(_class, image), \"data/data/train/{}/{}\".format(_class, image))"
   ]
  },
  {
   "cell_type": "code",
   "execution_count": 5,
   "metadata": {},
   "outputs": [],
   "source": [
    "!rm -r data/data"
   ]
  },
  {
   "cell_type": "code",
   "execution_count": null,
   "metadata": {},
   "outputs": [],
   "source": []
  }
 ],
 "metadata": {
  "kernelspec": {
   "display_name": "cv",
   "language": "python",
   "name": "python3"
  },
  "language_info": {
   "codemirror_mode": {
    "name": "ipython",
    "version": 3
   },
   "file_extension": ".py",
   "mimetype": "text/x-python",
   "name": "python",
   "nbconvert_exporter": "python",
   "pygments_lexer": "ipython3",
   "version": "3.11.2"
  }
 },
 "nbformat": 4,
 "nbformat_minor": 2
}
